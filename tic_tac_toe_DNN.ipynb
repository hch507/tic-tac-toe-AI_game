{
  "nbformat": 4,
  "nbformat_minor": 0,
  "metadata": {
    "colab": {
      "name": "tic-tac-toe  DNN.ipynb",
      "provenance": [],
      "authorship_tag": "ABX9TyPnfUjXbT8o60OWf4w+JIwi",
      "include_colab_link": true
    },
    "kernelspec": {
      "name": "python3",
      "display_name": "Python 3"
    },
    "language_info": {
      "name": "python"
    }
  },
  "cells": [
    {
      "cell_type": "markdown",
      "metadata": {
        "id": "view-in-github",
        "colab_type": "text"
      },
      "source": [
        "<a href=\"https://colab.research.google.com/github/hch507/tic-tac-toe-AI_game/blob/main/tic_tac_toe_DNN.ipynb\" target=\"_parent\"><img src=\"https://colab.research.google.com/assets/colab-badge.svg\" alt=\"Open In Colab\"/></a>"
      ]
    },
    {
      "cell_type": "code",
      "execution_count": 1,
      "metadata": {
        "id": "s3mk9_twEurZ"
      },
      "outputs": [],
      "source": [
        "import numpy as np\n",
        "import pandas as pd\n",
        "import io"
      ]
    },
    {
      "cell_type": "code",
      "source": [
        "from google.colab import files"
      ],
      "metadata": {
        "id": "F6GLuDHaFpEc"
      },
      "execution_count": 2,
      "outputs": []
    },
    {
      "cell_type": "code",
      "source": [
        "file = files.upload()"
      ],
      "metadata": {
        "colab": {
          "resources": {
            "http://localhost:8080/nbextensions/google.colab/files.js": {
              "data": "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",
              "ok": true,
              "headers": [
                [
                  "content-type",
                  "application/javascript"
                ]
              ],
              "status": 200,
              "status_text": ""
            }
          },
          "base_uri": "https://localhost:8080/",
          "height": 73
        },
        "id": "urCq-VG0GR9g",
        "outputId": "bbb3c97f-adb7-4495-c6a1-d097c6870dec"
      },
      "execution_count": 3,
      "outputs": [
        {
          "output_type": "display_data",
          "data": {
            "text/plain": [
              "<IPython.core.display.HTML object>"
            ],
            "text/html": [
              "\n",
              "     <input type=\"file\" id=\"files-48a61f84-f98d-4902-a0fe-0a23d9ca8363\" name=\"files[]\" multiple disabled\n",
              "        style=\"border:none\" />\n",
              "     <output id=\"result-48a61f84-f98d-4902-a0fe-0a23d9ca8363\">\n",
              "      Upload widget is only available when the cell has been executed in the\n",
              "      current browser session. Please rerun this cell to enable.\n",
              "      </output>\n",
              "      <script src=\"/nbextensions/google.colab/files.js\"></script> "
            ]
          },
          "metadata": {}
        },
        {
          "output_type": "stream",
          "name": "stdout",
          "text": [
            "Saving tic-tac-toe-endgame.csv to tic-tac-toe-endgame.csv\n"
          ]
        }
      ]
    },
    {
      "cell_type": "code",
      "source": [
        "tic_df = pd.read_csv(io.BytesIO(file['tic-tac-toe-endgame.csv']))"
      ],
      "metadata": {
        "id": "eg7glwDaGYRe"
      },
      "execution_count": 4,
      "outputs": []
    },
    {
      "cell_type": "code",
      "source": [
        "tic_df"
      ],
      "metadata": {
        "colab": {
          "base_uri": "https://localhost:8080/",
          "height": 419
        },
        "id": "D7OBPV_oHCZe",
        "outputId": "755d489e-7032-43cf-d953-7f44f02f1e92"
      },
      "execution_count": 5,
      "outputs": [
        {
          "output_type": "execute_result",
          "data": {
            "text/plain": [
              "    V1 V2 V3 V4 V5 V6 V7 V8 V9       V10\n",
              "0    x  x  x  x  o  o  x  o  o  positive\n",
              "1    x  x  x  x  o  o  o  x  o  positive\n",
              "2    x  x  x  x  o  o  o  o  x  positive\n",
              "3    x  x  x  x  o  o  o  b  b  positive\n",
              "4    x  x  x  x  o  o  b  o  b  positive\n",
              "..  .. .. .. .. .. .. .. .. ..       ...\n",
              "953  o  x  x  x  o  o  o  x  x  negative\n",
              "954  o  x  o  x  x  o  x  o  x  negative\n",
              "955  o  x  o  x  o  x  x  o  x  negative\n",
              "956  o  x  o  o  x  x  x  o  x  negative\n",
              "957  o  o  x  x  x  o  o  x  x  negative\n",
              "\n",
              "[958 rows x 10 columns]"
            ],
            "text/html": [
              "\n",
              "  <div id=\"df-468186c3-2a39-4f8c-9202-8e72ca9227e9\">\n",
              "    <div class=\"colab-df-container\">\n",
              "      <div>\n",
              "<style scoped>\n",
              "    .dataframe tbody tr th:only-of-type {\n",
              "        vertical-align: middle;\n",
              "    }\n",
              "\n",
              "    .dataframe tbody tr th {\n",
              "        vertical-align: top;\n",
              "    }\n",
              "\n",
              "    .dataframe thead th {\n",
              "        text-align: right;\n",
              "    }\n",
              "</style>\n",
              "<table border=\"1\" class=\"dataframe\">\n",
              "  <thead>\n",
              "    <tr style=\"text-align: right;\">\n",
              "      <th></th>\n",
              "      <th>V1</th>\n",
              "      <th>V2</th>\n",
              "      <th>V3</th>\n",
              "      <th>V4</th>\n",
              "      <th>V5</th>\n",
              "      <th>V6</th>\n",
              "      <th>V7</th>\n",
              "      <th>V8</th>\n",
              "      <th>V9</th>\n",
              "      <th>V10</th>\n",
              "    </tr>\n",
              "  </thead>\n",
              "  <tbody>\n",
              "    <tr>\n",
              "      <th>0</th>\n",
              "      <td>x</td>\n",
              "      <td>x</td>\n",
              "      <td>x</td>\n",
              "      <td>x</td>\n",
              "      <td>o</td>\n",
              "      <td>o</td>\n",
              "      <td>x</td>\n",
              "      <td>o</td>\n",
              "      <td>o</td>\n",
              "      <td>positive</td>\n",
              "    </tr>\n",
              "    <tr>\n",
              "      <th>1</th>\n",
              "      <td>x</td>\n",
              "      <td>x</td>\n",
              "      <td>x</td>\n",
              "      <td>x</td>\n",
              "      <td>o</td>\n",
              "      <td>o</td>\n",
              "      <td>o</td>\n",
              "      <td>x</td>\n",
              "      <td>o</td>\n",
              "      <td>positive</td>\n",
              "    </tr>\n",
              "    <tr>\n",
              "      <th>2</th>\n",
              "      <td>x</td>\n",
              "      <td>x</td>\n",
              "      <td>x</td>\n",
              "      <td>x</td>\n",
              "      <td>o</td>\n",
              "      <td>o</td>\n",
              "      <td>o</td>\n",
              "      <td>o</td>\n",
              "      <td>x</td>\n",
              "      <td>positive</td>\n",
              "    </tr>\n",
              "    <tr>\n",
              "      <th>3</th>\n",
              "      <td>x</td>\n",
              "      <td>x</td>\n",
              "      <td>x</td>\n",
              "      <td>x</td>\n",
              "      <td>o</td>\n",
              "      <td>o</td>\n",
              "      <td>o</td>\n",
              "      <td>b</td>\n",
              "      <td>b</td>\n",
              "      <td>positive</td>\n",
              "    </tr>\n",
              "    <tr>\n",
              "      <th>4</th>\n",
              "      <td>x</td>\n",
              "      <td>x</td>\n",
              "      <td>x</td>\n",
              "      <td>x</td>\n",
              "      <td>o</td>\n",
              "      <td>o</td>\n",
              "      <td>b</td>\n",
              "      <td>o</td>\n",
              "      <td>b</td>\n",
              "      <td>positive</td>\n",
              "    </tr>\n",
              "    <tr>\n",
              "      <th>...</th>\n",
              "      <td>...</td>\n",
              "      <td>...</td>\n",
              "      <td>...</td>\n",
              "      <td>...</td>\n",
              "      <td>...</td>\n",
              "      <td>...</td>\n",
              "      <td>...</td>\n",
              "      <td>...</td>\n",
              "      <td>...</td>\n",
              "      <td>...</td>\n",
              "    </tr>\n",
              "    <tr>\n",
              "      <th>953</th>\n",
              "      <td>o</td>\n",
              "      <td>x</td>\n",
              "      <td>x</td>\n",
              "      <td>x</td>\n",
              "      <td>o</td>\n",
              "      <td>o</td>\n",
              "      <td>o</td>\n",
              "      <td>x</td>\n",
              "      <td>x</td>\n",
              "      <td>negative</td>\n",
              "    </tr>\n",
              "    <tr>\n",
              "      <th>954</th>\n",
              "      <td>o</td>\n",
              "      <td>x</td>\n",
              "      <td>o</td>\n",
              "      <td>x</td>\n",
              "      <td>x</td>\n",
              "      <td>o</td>\n",
              "      <td>x</td>\n",
              "      <td>o</td>\n",
              "      <td>x</td>\n",
              "      <td>negative</td>\n",
              "    </tr>\n",
              "    <tr>\n",
              "      <th>955</th>\n",
              "      <td>o</td>\n",
              "      <td>x</td>\n",
              "      <td>o</td>\n",
              "      <td>x</td>\n",
              "      <td>o</td>\n",
              "      <td>x</td>\n",
              "      <td>x</td>\n",
              "      <td>o</td>\n",
              "      <td>x</td>\n",
              "      <td>negative</td>\n",
              "    </tr>\n",
              "    <tr>\n",
              "      <th>956</th>\n",
              "      <td>o</td>\n",
              "      <td>x</td>\n",
              "      <td>o</td>\n",
              "      <td>o</td>\n",
              "      <td>x</td>\n",
              "      <td>x</td>\n",
              "      <td>x</td>\n",
              "      <td>o</td>\n",
              "      <td>x</td>\n",
              "      <td>negative</td>\n",
              "    </tr>\n",
              "    <tr>\n",
              "      <th>957</th>\n",
              "      <td>o</td>\n",
              "      <td>o</td>\n",
              "      <td>x</td>\n",
              "      <td>x</td>\n",
              "      <td>x</td>\n",
              "      <td>o</td>\n",
              "      <td>o</td>\n",
              "      <td>x</td>\n",
              "      <td>x</td>\n",
              "      <td>negative</td>\n",
              "    </tr>\n",
              "  </tbody>\n",
              "</table>\n",
              "<p>958 rows × 10 columns</p>\n",
              "</div>\n",
              "      <button class=\"colab-df-convert\" onclick=\"convertToInteractive('df-468186c3-2a39-4f8c-9202-8e72ca9227e9')\"\n",
              "              title=\"Convert this dataframe to an interactive table.\"\n",
              "              style=\"display:none;\">\n",
              "        \n",
              "  <svg xmlns=\"http://www.w3.org/2000/svg\" height=\"24px\"viewBox=\"0 0 24 24\"\n",
              "       width=\"24px\">\n",
              "    <path d=\"M0 0h24v24H0V0z\" fill=\"none\"/>\n",
              "    <path d=\"M18.56 5.44l.94 2.06.94-2.06 2.06-.94-2.06-.94-.94-2.06-.94 2.06-2.06.94zm-11 1L8.5 8.5l.94-2.06 2.06-.94-2.06-.94L8.5 2.5l-.94 2.06-2.06.94zm10 10l.94 2.06.94-2.06 2.06-.94-2.06-.94-.94-2.06-.94 2.06-2.06.94z\"/><path d=\"M17.41 7.96l-1.37-1.37c-.4-.4-.92-.59-1.43-.59-.52 0-1.04.2-1.43.59L10.3 9.45l-7.72 7.72c-.78.78-.78 2.05 0 2.83L4 21.41c.39.39.9.59 1.41.59.51 0 1.02-.2 1.41-.59l7.78-7.78 2.81-2.81c.8-.78.8-2.07 0-2.86zM5.41 20L4 18.59l7.72-7.72 1.47 1.35L5.41 20z\"/>\n",
              "  </svg>\n",
              "      </button>\n",
              "      \n",
              "  <style>\n",
              "    .colab-df-container {\n",
              "      display:flex;\n",
              "      flex-wrap:wrap;\n",
              "      gap: 12px;\n",
              "    }\n",
              "\n",
              "    .colab-df-convert {\n",
              "      background-color: #E8F0FE;\n",
              "      border: none;\n",
              "      border-radius: 50%;\n",
              "      cursor: pointer;\n",
              "      display: none;\n",
              "      fill: #1967D2;\n",
              "      height: 32px;\n",
              "      padding: 0 0 0 0;\n",
              "      width: 32px;\n",
              "    }\n",
              "\n",
              "    .colab-df-convert:hover {\n",
              "      background-color: #E2EBFA;\n",
              "      box-shadow: 0px 1px 2px rgba(60, 64, 67, 0.3), 0px 1px 3px 1px rgba(60, 64, 67, 0.15);\n",
              "      fill: #174EA6;\n",
              "    }\n",
              "\n",
              "    [theme=dark] .colab-df-convert {\n",
              "      background-color: #3B4455;\n",
              "      fill: #D2E3FC;\n",
              "    }\n",
              "\n",
              "    [theme=dark] .colab-df-convert:hover {\n",
              "      background-color: #434B5C;\n",
              "      box-shadow: 0px 1px 3px 1px rgba(0, 0, 0, 0.15);\n",
              "      filter: drop-shadow(0px 1px 2px rgba(0, 0, 0, 0.3));\n",
              "      fill: #FFFFFF;\n",
              "    }\n",
              "  </style>\n",
              "\n",
              "      <script>\n",
              "        const buttonEl =\n",
              "          document.querySelector('#df-468186c3-2a39-4f8c-9202-8e72ca9227e9 button.colab-df-convert');\n",
              "        buttonEl.style.display =\n",
              "          google.colab.kernel.accessAllowed ? 'block' : 'none';\n",
              "\n",
              "        async function convertToInteractive(key) {\n",
              "          const element = document.querySelector('#df-468186c3-2a39-4f8c-9202-8e72ca9227e9');\n",
              "          const dataTable =\n",
              "            await google.colab.kernel.invokeFunction('convertToInteractive',\n",
              "                                                     [key], {});\n",
              "          if (!dataTable) return;\n",
              "\n",
              "          const docLinkHtml = 'Like what you see? Visit the ' +\n",
              "            '<a target=\"_blank\" href=https://colab.research.google.com/notebooks/data_table.ipynb>data table notebook</a>'\n",
              "            + ' to learn more about interactive tables.';\n",
              "          element.innerHTML = '';\n",
              "          dataTable['output_type'] = 'display_data';\n",
              "          await google.colab.output.renderOutput(dataTable, element);\n",
              "          const docLink = document.createElement('div');\n",
              "          docLink.innerHTML = docLinkHtml;\n",
              "          element.appendChild(docLink);\n",
              "        }\n",
              "      </script>\n",
              "    </div>\n",
              "  </div>\n",
              "  "
            ]
          },
          "metadata": {},
          "execution_count": 5
        }
      ]
    },
    {
      "cell_type": "code",
      "source": [
        "tic_df.info()"
      ],
      "metadata": {
        "colab": {
          "base_uri": "https://localhost:8080/"
        },
        "id": "ecJSg2tQHRAE",
        "outputId": "65276edd-8503-4635-dd9d-9a56ad6a45b9"
      },
      "execution_count": 6,
      "outputs": [
        {
          "output_type": "stream",
          "name": "stdout",
          "text": [
            "<class 'pandas.core.frame.DataFrame'>\n",
            "RangeIndex: 958 entries, 0 to 957\n",
            "Data columns (total 10 columns):\n",
            " #   Column  Non-Null Count  Dtype \n",
            "---  ------  --------------  ----- \n",
            " 0   V1      958 non-null    object\n",
            " 1   V2      958 non-null    object\n",
            " 2   V3      958 non-null    object\n",
            " 3   V4      958 non-null    object\n",
            " 4   V5      958 non-null    object\n",
            " 5   V6      958 non-null    object\n",
            " 6   V7      958 non-null    object\n",
            " 7   V8      958 non-null    object\n",
            " 8   V9      958 non-null    object\n",
            " 9   V10     958 non-null    object\n",
            "dtypes: object(10)\n",
            "memory usage: 75.0+ KB\n"
          ]
        }
      ]
    },
    {
      "cell_type": "code",
      "source": [
        ""
      ],
      "metadata": {
        "id": "CtiE35dwpMW-"
      },
      "execution_count": 6,
      "outputs": []
    },
    {
      "cell_type": "code",
      "source": [
        "tic_df.info()"
      ],
      "metadata": {
        "colab": {
          "base_uri": "https://localhost:8080/"
        },
        "id": "lIqNRelbqH7N",
        "outputId": "4e5a4a9a-d552-46dc-83ee-0d45c45d8d76"
      },
      "execution_count": 7,
      "outputs": [
        {
          "output_type": "stream",
          "name": "stdout",
          "text": [
            "<class 'pandas.core.frame.DataFrame'>\n",
            "RangeIndex: 958 entries, 0 to 957\n",
            "Data columns (total 10 columns):\n",
            " #   Column  Non-Null Count  Dtype \n",
            "---  ------  --------------  ----- \n",
            " 0   V1      958 non-null    object\n",
            " 1   V2      958 non-null    object\n",
            " 2   V3      958 non-null    object\n",
            " 3   V4      958 non-null    object\n",
            " 4   V5      958 non-null    object\n",
            " 5   V6      958 non-null    object\n",
            " 6   V7      958 non-null    object\n",
            " 7   V8      958 non-null    object\n",
            " 8   V9      958 non-null    object\n",
            " 9   V10     958 non-null    object\n",
            "dtypes: object(10)\n",
            "memory usage: 75.0+ KB\n"
          ]
        }
      ]
    },
    {
      "cell_type": "code",
      "source": [
        "tic_df['V1'].value_counts()"
      ],
      "metadata": {
        "colab": {
          "base_uri": "https://localhost:8080/"
        },
        "id": "cqKNWodkHavR",
        "outputId": "02179da5-68e0-4475-bc9d-32acac1b67ff"
      },
      "execution_count": 8,
      "outputs": [
        {
          "output_type": "execute_result",
          "data": {
            "text/plain": [
              "x    418\n",
              "o    335\n",
              "b    205\n",
              "Name: V1, dtype: int64"
            ]
          },
          "metadata": {},
          "execution_count": 8
        }
      ]
    },
    {
      "cell_type": "code",
      "source": [
        "##features =['V1','V2','V3','V4','V5','V6','V7','V8','V9','V10']\n",
        "##for feature in features:\n",
        "tic_np = tic_df.values  \n",
        "print(tic_np.dtype)"
      ],
      "metadata": {
        "colab": {
          "base_uri": "https://localhost:8080/"
        },
        "id": "4HZ0yRzoIWQz",
        "outputId": "22ffd7e7-164d-4406-be23-c2be70e2ef3e"
      },
      "execution_count": 9,
      "outputs": [
        {
          "output_type": "stream",
          "name": "stdout",
          "text": [
            "object\n"
          ]
        }
      ]
    },
    {
      "cell_type": "code",
      "source": [
        "for i in range(958):\n",
        "  for f in range(10):\n",
        "    if(tic_np[i][f] =='x'):\n",
        "      tic_np[i][f]=1\n",
        "    if(tic_np[i][f] =='o'):\n",
        "      tic_np[i][f]=0\n",
        "    if(tic_np[i][f] =='b'):\n",
        "      tic_np[i][f]=2\n",
        "    if(tic_np[i][f] =='positive'):\n",
        "      tic_np[i][f]=1\n",
        "    if(tic_np[i][f] =='negative'):\n",
        "      tic_np[i][f]=0\n",
        "\n",
        "print(tic_np)\n"
      ],
      "metadata": {
        "colab": {
          "base_uri": "https://localhost:8080/"
        },
        "id": "YaOufPZbK350",
        "outputId": "8fac760c-a5b0-4be2-bbe3-be6d72ca8435"
      },
      "execution_count": 10,
      "outputs": [
        {
          "output_type": "stream",
          "name": "stdout",
          "text": [
            "[[1 1 1 ... 0 0 1]\n",
            " [1 1 1 ... 1 0 1]\n",
            " [1 1 1 ... 0 1 1]\n",
            " ...\n",
            " [0 1 0 ... 0 1 0]\n",
            " [0 1 0 ... 0 1 0]\n",
            " [0 0 1 ... 1 1 0]]\n"
          ]
        }
      ]
    },
    {
      "cell_type": "code",
      "source": [
        "np.random.shuffle(tic_np)\n",
        "tic_np[766: , -1]"
      ],
      "metadata": {
        "colab": {
          "base_uri": "https://localhost:8080/"
        },
        "id": "tgmqS8Ovg1So",
        "outputId": "889a0f19-fe0a-4e28-976a-410782600617"
      },
      "execution_count": 54,
      "outputs": [
        {
          "output_type": "execute_result",
          "data": {
            "text/plain": [
              "array([1, 0, 1, 0, 1, 1, 0, 1, 0, 1, 1, 0, 1, 1, 0, 1, 0, 1, 0, 1, 1, 1,\n",
              "       1, 1, 0, 0, 0, 0, 0, 1, 0, 1, 1, 1, 0, 0, 0, 0, 1, 1, 0, 1, 1, 1,\n",
              "       1, 1, 1, 1, 0, 1, 1, 1, 0, 0, 0, 1, 0, 0, 1, 0, 1, 0, 1, 1, 1, 1,\n",
              "       1, 1, 1, 1, 0, 1, 1, 1, 1, 0, 1, 1, 1, 0, 0, 1, 1, 0, 1, 1, 0, 0,\n",
              "       0, 1, 1, 0, 1, 1, 0, 0, 1, 1, 1, 1, 1, 1, 0, 1, 1, 1, 0, 0, 1, 1,\n",
              "       1, 1, 1, 1, 0, 0, 0, 0, 0, 1, 1, 1, 0, 1, 1, 0, 1, 1, 1, 0, 0, 0,\n",
              "       0, 0, 1, 1, 1, 1, 1, 1, 0, 1, 1, 0, 0, 1, 0, 1, 1, 1, 1, 1, 0, 1,\n",
              "       0, 1, 1, 1, 1, 1, 0, 0, 1, 1, 0, 0, 0, 0, 1, 1, 0, 0, 0, 1, 1, 1,\n",
              "       1, 0, 0, 0, 1, 0, 1, 1, 1, 1, 1, 1, 1, 0, 1, 0], dtype=object)"
            ]
          },
          "metadata": {},
          "execution_count": 54
        }
      ]
    },
    {
      "cell_type": "code",
      "source": [
        "import tensorflow as tf"
      ],
      "metadata": {
        "id": "UNyVMx_9aPOO"
      },
      "execution_count": 55,
      "outputs": []
    },
    {
      "cell_type": "code",
      "source": [
        "test_rate = 0.2\n",
        "\n",
        "n = int(tic_np.shape[0]*(1-test_rate))\n",
        "print(n)"
      ],
      "metadata": {
        "colab": {
          "base_uri": "https://localhost:8080/"
        },
        "id": "iyMcYu39sdU-",
        "outputId": "04a274c5-b3af-4c4a-a0aa-99ccc8d3ba11"
      },
      "execution_count": 57,
      "outputs": [
        {
          "output_type": "stream",
          "name": "stdout",
          "text": [
            "766\n"
          ]
        }
      ]
    },
    {
      "cell_type": "code",
      "source": [
        "x_train = tic_np[ : n, :-1].astype(int)\n",
        "y_train = tic_np[ : n, -1].astype(int)\n",
        "\n",
        "x_test = tic_np[n: , :-1].astype(int)\n",
        "y_test = tic_np[n: , -1].astype(int)\n",
        "\n",
        "print(f'x_train 의 개수 : { x_train.shape[0]}')\n",
        "print(f'y_train 의 개수 : { y_train.shape[0]}')\n",
        "print(f'x_test 의 개수 : { x_test.shape[0]}')\n",
        "print(f'y_test 의 개수 : { x_test.shape[0]}')"
      ],
      "metadata": {
        "colab": {
          "base_uri": "https://localhost:8080/"
        },
        "id": "UGU9b4L7s-c-",
        "outputId": "c7b0627f-b318-4846-f24a-a79c47dd7604"
      },
      "execution_count": 58,
      "outputs": [
        {
          "output_type": "stream",
          "name": "stdout",
          "text": [
            "x_train 의 개수 : 766\n",
            "y_train 의 개수 : 766\n",
            "x_test 의 개수 : 192\n",
            "y_test 의 개수 : 192\n"
          ]
        }
      ]
    },
    {
      "cell_type": "code",
      "source": [
        "model = tf.keras.Sequential()\n",
        "model.add(tf.keras.layers.Dense(units=2000, input_dim = 9, activation=\"relu\"))\n",
        "model.add(tf.keras.layers.Dense(units=1000, activation=\"relu\"))\n",
        "model.add(tf.keras.layers.Dense(units=500, activation=\"relu\"))\n",
        "model.add(tf.keras.layers.Dense(units=300, activation=\"relu\"))\n",
        "model.add(tf.keras.layers.Dense(units=1,  activation=\"sigmoid\"))\n",
        "model.summary()"
      ],
      "metadata": {
        "colab": {
          "base_uri": "https://localhost:8080/"
        },
        "id": "89viJdEZt30N",
        "outputId": "4f72c150-ab36-4b0d-bd50-6b6f2ff01967"
      },
      "execution_count": 60,
      "outputs": [
        {
          "output_type": "stream",
          "name": "stdout",
          "text": [
            "Model: \"sequential_4\"\n",
            "_________________________________________________________________\n",
            " Layer (type)                Output Shape              Param #   \n",
            "=================================================================\n",
            " dense_16 (Dense)            (None, 2000)              20000     \n",
            "                                                                 \n",
            " dense_17 (Dense)            (None, 1000)              2001000   \n",
            "                                                                 \n",
            " dense_18 (Dense)            (None, 500)               500500    \n",
            "                                                                 \n",
            " dense_19 (Dense)            (None, 300)               150300    \n",
            "                                                                 \n",
            " dense_20 (Dense)            (None, 1)                 301       \n",
            "                                                                 \n",
            "=================================================================\n",
            "Total params: 2,672,101\n",
            "Trainable params: 2,672,101\n",
            "Non-trainable params: 0\n",
            "_________________________________________________________________\n"
          ]
        }
      ]
    },
    {
      "cell_type": "code",
      "source": [
        "opt = tf.keras.optimizers.SGD(learning_rate = 0.2)\n",
        "model.compile(optimizer = opt, loss = 'mse', metrics=['accuracy'])"
      ],
      "metadata": {
        "id": "sTc_zs5uuyug"
      },
      "execution_count": 61,
      "outputs": []
    },
    {
      "cell_type": "code",
      "source": [
        "ret = model.fit(x_train, y_train, epochs=100 )\n",
        "print(f'model.layer = {len(model.layers)}')\n"
      ],
      "metadata": {
        "colab": {
          "base_uri": "https://localhost:8080/"
        },
        "id": "llL5F_kwwaRm",
        "outputId": "719c3a81-50ff-4246-fb7f-e03ceec011f8"
      },
      "execution_count": 62,
      "outputs": [
        {
          "output_type": "stream",
          "name": "stdout",
          "text": [
            "Epoch 1/100\n",
            "24/24 [==============================] - 1s 28ms/step - loss: 0.2222 - accuracy: 0.6567\n",
            "Epoch 2/100\n",
            "24/24 [==============================] - 1s 28ms/step - loss: 0.2084 - accuracy: 0.6632\n",
            "Epoch 3/100\n",
            "24/24 [==============================] - 1s 27ms/step - loss: 0.1999 - accuracy: 0.6775\n",
            "Epoch 4/100\n",
            "24/24 [==============================] - 1s 27ms/step - loss: 0.1931 - accuracy: 0.6997\n",
            "Epoch 5/100\n",
            "24/24 [==============================] - 1s 28ms/step - loss: 0.1854 - accuracy: 0.7076\n",
            "Epoch 6/100\n",
            "24/24 [==============================] - 1s 27ms/step - loss: 0.1791 - accuracy: 0.7102\n",
            "Epoch 7/100\n",
            "24/24 [==============================] - 1s 28ms/step - loss: 0.1733 - accuracy: 0.7272\n",
            "Epoch 8/100\n",
            "24/24 [==============================] - 1s 27ms/step - loss: 0.1701 - accuracy: 0.7480\n",
            "Epoch 9/100\n",
            "24/24 [==============================] - 1s 27ms/step - loss: 0.1680 - accuracy: 0.7337\n",
            "Epoch 10/100\n",
            "24/24 [==============================] - 1s 28ms/step - loss: 0.1446 - accuracy: 0.7768\n",
            "Epoch 11/100\n",
            "24/24 [==============================] - 1s 28ms/step - loss: 0.1410 - accuracy: 0.8120\n",
            "Epoch 12/100\n",
            "24/24 [==============================] - 1s 29ms/step - loss: 0.1410 - accuracy: 0.8042\n",
            "Epoch 13/100\n",
            "24/24 [==============================] - 1s 28ms/step - loss: 0.1413 - accuracy: 0.7885\n",
            "Epoch 14/100\n",
            "24/24 [==============================] - 1s 27ms/step - loss: 0.1204 - accuracy: 0.8368\n",
            "Epoch 15/100\n",
            "24/24 [==============================] - 1s 28ms/step - loss: 0.1089 - accuracy: 0.8590\n",
            "Epoch 16/100\n",
            "24/24 [==============================] - 1s 28ms/step - loss: 0.1026 - accuracy: 0.8590\n",
            "Epoch 17/100\n",
            "24/24 [==============================] - 1s 27ms/step - loss: 0.0925 - accuracy: 0.8838\n",
            "Epoch 18/100\n",
            "24/24 [==============================] - 1s 28ms/step - loss: 0.0957 - accuracy: 0.8734\n",
            "Epoch 19/100\n",
            "24/24 [==============================] - 1s 28ms/step - loss: 0.0983 - accuracy: 0.8629\n",
            "Epoch 20/100\n",
            "24/24 [==============================] - 1s 28ms/step - loss: 0.0706 - accuracy: 0.9047\n",
            "Epoch 21/100\n",
            "24/24 [==============================] - 1s 28ms/step - loss: 0.0873 - accuracy: 0.8916\n",
            "Epoch 22/100\n",
            "24/24 [==============================] - 1s 28ms/step - loss: 0.0466 - accuracy: 0.9556\n",
            "Epoch 23/100\n",
            "24/24 [==============================] - 1s 27ms/step - loss: 0.0800 - accuracy: 0.8956\n",
            "Epoch 24/100\n",
            "24/24 [==============================] - 1s 28ms/step - loss: 0.0700 - accuracy: 0.9073\n",
            "Epoch 25/100\n",
            "24/24 [==============================] - 1s 28ms/step - loss: 0.0359 - accuracy: 0.9687\n",
            "Epoch 26/100\n",
            "24/24 [==============================] - 1s 28ms/step - loss: 0.0243 - accuracy: 0.9830\n",
            "Epoch 27/100\n",
            "24/24 [==============================] - 1s 29ms/step - loss: 0.0315 - accuracy: 0.9687\n",
            "Epoch 28/100\n",
            "24/24 [==============================] - 1s 27ms/step - loss: 0.0191 - accuracy: 0.9869\n",
            "Epoch 29/100\n",
            "24/24 [==============================] - 1s 31ms/step - loss: 0.0197 - accuracy: 0.9830\n",
            "Epoch 30/100\n",
            "24/24 [==============================] - 1s 38ms/step - loss: 0.0575 - accuracy: 0.9334\n",
            "Epoch 31/100\n",
            "24/24 [==============================] - 1s 42ms/step - loss: 0.0157 - accuracy: 0.9869\n",
            "Epoch 32/100\n",
            "24/24 [==============================] - 1s 28ms/step - loss: 0.0142 - accuracy: 0.9869\n",
            "Epoch 33/100\n",
            "24/24 [==============================] - 1s 28ms/step - loss: 0.0139 - accuracy: 0.9869\n",
            "Epoch 34/100\n",
            "24/24 [==============================] - 1s 27ms/step - loss: 0.0136 - accuracy: 0.9869\n",
            "Epoch 35/100\n",
            "24/24 [==============================] - 1s 28ms/step - loss: 0.0159 - accuracy: 0.9830\n",
            "Epoch 36/100\n",
            "24/24 [==============================] - 1s 28ms/step - loss: 0.0124 - accuracy: 0.9869\n",
            "Epoch 37/100\n",
            "24/24 [==============================] - 1s 28ms/step - loss: 0.0153 - accuracy: 0.9856\n",
            "Epoch 38/100\n",
            "24/24 [==============================] - 1s 28ms/step - loss: 0.0114 - accuracy: 0.9883\n",
            "Epoch 39/100\n",
            "24/24 [==============================] - 1s 28ms/step - loss: 0.0111 - accuracy: 0.9896\n",
            "Epoch 40/100\n",
            "24/24 [==============================] - 1s 28ms/step - loss: 0.0118 - accuracy: 0.9856\n",
            "Epoch 41/100\n",
            "24/24 [==============================] - 1s 28ms/step - loss: 0.0102 - accuracy: 0.9909\n",
            "Epoch 42/100\n",
            "24/24 [==============================] - 1s 29ms/step - loss: 0.0092 - accuracy: 0.9909\n",
            "Epoch 43/100\n",
            "24/24 [==============================] - 1s 28ms/step - loss: 0.0103 - accuracy: 0.9922\n",
            "Epoch 44/100\n",
            "24/24 [==============================] - 1s 28ms/step - loss: 0.0226 - accuracy: 0.9713\n",
            "Epoch 45/100\n",
            "24/24 [==============================] - 1s 28ms/step - loss: 0.0392 - accuracy: 0.9530\n",
            "Epoch 46/100\n",
            "24/24 [==============================] - 1s 27ms/step - loss: 0.0093 - accuracy: 0.9909\n",
            "Epoch 47/100\n",
            "24/24 [==============================] - 1s 28ms/step - loss: 0.0088 - accuracy: 0.9922\n",
            "Epoch 48/100\n",
            "24/24 [==============================] - 1s 29ms/step - loss: 0.0080 - accuracy: 0.9922\n",
            "Epoch 49/100\n",
            "24/24 [==============================] - 1s 28ms/step - loss: 0.0075 - accuracy: 0.9935\n",
            "Epoch 50/100\n",
            "24/24 [==============================] - 1s 28ms/step - loss: 0.0073 - accuracy: 0.9935\n",
            "Epoch 51/100\n",
            "24/24 [==============================] - 1s 28ms/step - loss: 0.0097 - accuracy: 0.9883\n",
            "Epoch 52/100\n",
            "24/24 [==============================] - 1s 28ms/step - loss: 0.0071 - accuracy: 0.9922\n",
            "Epoch 53/100\n",
            "24/24 [==============================] - 1s 28ms/step - loss: 0.0061 - accuracy: 0.9948\n",
            "Epoch 54/100\n",
            "24/24 [==============================] - 1s 28ms/step - loss: 0.0071 - accuracy: 0.9909\n",
            "Epoch 55/100\n",
            "24/24 [==============================] - 1s 28ms/step - loss: 0.0045 - accuracy: 0.9974\n",
            "Epoch 56/100\n",
            "24/24 [==============================] - 1s 29ms/step - loss: 0.0060 - accuracy: 0.9948\n",
            "Epoch 57/100\n",
            "24/24 [==============================] - 1s 29ms/step - loss: 0.0045 - accuracy: 0.9961\n",
            "Epoch 58/100\n",
            "24/24 [==============================] - 1s 28ms/step - loss: 0.0041 - accuracy: 0.9974\n",
            "Epoch 59/100\n",
            "24/24 [==============================] - 1s 28ms/step - loss: 0.0061 - accuracy: 0.9922\n",
            "Epoch 60/100\n",
            "24/24 [==============================] - 1s 28ms/step - loss: 0.1197 - accuracy: 0.8433\n",
            "Epoch 61/100\n",
            "24/24 [==============================] - 1s 28ms/step - loss: 0.0107 - accuracy: 0.9896\n",
            "Epoch 62/100\n",
            "24/24 [==============================] - 1s 28ms/step - loss: 0.0068 - accuracy: 0.9935\n",
            "Epoch 63/100\n",
            "24/24 [==============================] - 1s 28ms/step - loss: 0.0049 - accuracy: 0.9961\n",
            "Epoch 64/100\n",
            "24/24 [==============================] - 1s 28ms/step - loss: 0.0043 - accuracy: 0.9974\n",
            "Epoch 65/100\n",
            "24/24 [==============================] - 1s 28ms/step - loss: 0.0038 - accuracy: 0.9974\n",
            "Epoch 66/100\n",
            "24/24 [==============================] - 1s 28ms/step - loss: 0.0035 - accuracy: 0.9974\n",
            "Epoch 67/100\n",
            "24/24 [==============================] - 1s 28ms/step - loss: 0.0034 - accuracy: 0.9974\n",
            "Epoch 68/100\n",
            "24/24 [==============================] - 1s 28ms/step - loss: 0.0033 - accuracy: 0.9974\n",
            "Epoch 69/100\n",
            "24/24 [==============================] - 1s 28ms/step - loss: 0.0032 - accuracy: 0.9974\n",
            "Epoch 70/100\n",
            "24/24 [==============================] - 1s 28ms/step - loss: 0.0031 - accuracy: 0.9974\n",
            "Epoch 71/100\n",
            "24/24 [==============================] - 1s 28ms/step - loss: 0.0031 - accuracy: 0.9974\n",
            "Epoch 72/100\n",
            "24/24 [==============================] - 1s 29ms/step - loss: 0.0030 - accuracy: 0.9974\n",
            "Epoch 73/100\n",
            "24/24 [==============================] - 1s 29ms/step - loss: 0.0030 - accuracy: 0.9974\n",
            "Epoch 74/100\n",
            "24/24 [==============================] - 1s 28ms/step - loss: 0.0030 - accuracy: 0.9974\n",
            "Epoch 75/100\n",
            "24/24 [==============================] - 1s 27ms/step - loss: 0.0029 - accuracy: 0.9974\n",
            "Epoch 76/100\n",
            "24/24 [==============================] - 1s 28ms/step - loss: 0.0029 - accuracy: 0.9974\n",
            "Epoch 77/100\n",
            "24/24 [==============================] - 1s 28ms/step - loss: 0.0029 - accuracy: 0.9974\n",
            "Epoch 78/100\n",
            "24/24 [==============================] - 1s 27ms/step - loss: 0.0028 - accuracy: 0.9974\n",
            "Epoch 79/100\n",
            "24/24 [==============================] - 1s 28ms/step - loss: 0.0027 - accuracy: 0.9974\n",
            "Epoch 80/100\n",
            "24/24 [==============================] - 1s 28ms/step - loss: 0.0025 - accuracy: 0.9974\n",
            "Epoch 81/100\n",
            "24/24 [==============================] - 1s 28ms/step - loss: 0.0023 - accuracy: 0.9987\n",
            "Epoch 82/100\n",
            "24/24 [==============================] - 1s 28ms/step - loss: 0.0023 - accuracy: 0.9974\n",
            "Epoch 83/100\n",
            "24/24 [==============================] - 1s 28ms/step - loss: 0.0021 - accuracy: 0.9987\n",
            "Epoch 84/100\n",
            "24/24 [==============================] - 1s 28ms/step - loss: 0.0021 - accuracy: 0.9987\n",
            "Epoch 85/100\n",
            "24/24 [==============================] - 1s 28ms/step - loss: 0.0019 - accuracy: 0.9987\n",
            "Epoch 86/100\n",
            "24/24 [==============================] - 1s 28ms/step - loss: 0.0018 - accuracy: 0.9987\n",
            "Epoch 87/100\n",
            "24/24 [==============================] - 1s 28ms/step - loss: 0.0018 - accuracy: 0.9987\n",
            "Epoch 88/100\n",
            "24/24 [==============================] - 1s 28ms/step - loss: 0.0017 - accuracy: 0.9987\n",
            "Epoch 89/100\n",
            "24/24 [==============================] - 1s 28ms/step - loss: 0.0017 - accuracy: 0.9987\n",
            "Epoch 90/100\n",
            "24/24 [==============================] - 1s 27ms/step - loss: 0.0017 - accuracy: 0.9987\n",
            "Epoch 91/100\n",
            "24/24 [==============================] - 1s 28ms/step - loss: 0.0016 - accuracy: 0.9987\n",
            "Epoch 92/100\n",
            "24/24 [==============================] - 1s 28ms/step - loss: 0.0016 - accuracy: 0.9987\n",
            "Epoch 93/100\n",
            "24/24 [==============================] - 1s 28ms/step - loss: 0.0016 - accuracy: 0.9987\n",
            "Epoch 94/100\n",
            "24/24 [==============================] - 1s 29ms/step - loss: 0.0016 - accuracy: 0.9987\n",
            "Epoch 95/100\n",
            "24/24 [==============================] - 1s 29ms/step - loss: 0.0016 - accuracy: 0.9987\n",
            "Epoch 96/100\n",
            "24/24 [==============================] - 1s 28ms/step - loss: 0.0015 - accuracy: 0.9987\n",
            "Epoch 97/100\n",
            "24/24 [==============================] - 1s 28ms/step - loss: 0.0015 - accuracy: 0.9987\n",
            "Epoch 98/100\n",
            "24/24 [==============================] - 1s 28ms/step - loss: 0.0015 - accuracy: 0.9987\n",
            "Epoch 99/100\n",
            "24/24 [==============================] - 1s 28ms/step - loss: 0.0015 - accuracy: 0.9987\n",
            "Epoch 100/100\n",
            "24/24 [==============================] - 1s 29ms/step - loss: 0.0015 - accuracy: 0.9987\n",
            "model.layer = 5\n"
          ]
        }
      ]
    },
    {
      "cell_type": "code",
      "source": [
        "score = model.evaluate(x_test, y_test)"
      ],
      "metadata": {
        "id": "xqEZdhsJxHM_",
        "colab": {
          "base_uri": "https://localhost:8080/"
        },
        "outputId": "ba5fdac3-0325-4bdc-f502-33e01e0d9095"
      },
      "execution_count": 63,
      "outputs": [
        {
          "output_type": "stream",
          "name": "stdout",
          "text": [
            "6/6 [==============================] - 0s 7ms/step - loss: 0.0290 - accuracy: 0.9688\n"
          ]
        }
      ]
    },
    {
      "cell_type": "code",
      "source": [
        "print(f'loss값 : {score[0]} 정답률 :{score[1]} ')"
      ],
      "metadata": {
        "colab": {
          "base_uri": "https://localhost:8080/"
        },
        "id": "Q9-1tLYWO6yO",
        "outputId": "2f9d0e33-d833-402b-bde1-c6f1df6986a4"
      },
      "execution_count": 64,
      "outputs": [
        {
          "output_type": "stream",
          "name": "stdout",
          "text": [
            "loss값 : 0.028984539210796356 정답률 :0.96875 \n"
          ]
        }
      ]
    },
    {
      "cell_type": "code",
      "source": [
        "predict = model.predict(x_test)"
      ],
      "metadata": {
        "id": "vnxxs3qKPO9o"
      },
      "execution_count": 72,
      "outputs": []
    },
    {
      "cell_type": "code",
      "source": [
        "predict"
      ],
      "metadata": {
        "colab": {
          "base_uri": "https://localhost:8080/"
        },
        "id": "Gyxori_0SXai",
        "outputId": "f0391940-a188-42c2-ffa6-940d8d52ad3e"
      },
      "execution_count": 73,
      "outputs": [
        {
          "output_type": "execute_result",
          "data": {
            "text/plain": [
              "array([[0.9999993 ],\n",
              "       [0.00926805],\n",
              "       [0.9999652 ],\n",
              "       [0.0129036 ],\n",
              "       [0.9985486 ],\n",
              "       [0.88638407],\n",
              "       [0.00613341],\n",
              "       [1.        ],\n",
              "       [0.01988432],\n",
              "       [0.99997604],\n",
              "       [0.9999194 ],\n",
              "       [0.00211301],\n",
              "       [0.9986454 ],\n",
              "       [0.9999995 ],\n",
              "       [0.94801027],\n",
              "       [0.99744534],\n",
              "       [0.07020462],\n",
              "       [0.994123  ],\n",
              "       [0.00506052],\n",
              "       [0.9315778 ],\n",
              "       [0.99413127],\n",
              "       [1.        ],\n",
              "       [0.9987947 ],\n",
              "       [1.        ],\n",
              "       [0.15036309],\n",
              "       [0.02255392],\n",
              "       [0.27867642],\n",
              "       [0.02499884],\n",
              "       [0.01032707],\n",
              "       [0.99999136],\n",
              "       [0.68173057],\n",
              "       [0.46512252],\n",
              "       [0.53449225],\n",
              "       [0.9999744 ],\n",
              "       [0.01759645],\n",
              "       [0.01390052],\n",
              "       [0.04735568],\n",
              "       [0.01216802],\n",
              "       [0.99997926],\n",
              "       [0.99989295],\n",
              "       [0.00160497],\n",
              "       [0.99993104],\n",
              "       [0.99981415],\n",
              "       [0.9594424 ],\n",
              "       [0.9999676 ],\n",
              "       [0.9999596 ],\n",
              "       [0.99215394],\n",
              "       [0.99829054],\n",
              "       [0.00989771],\n",
              "       [0.99329424],\n",
              "       [0.999966  ],\n",
              "       [0.9998319 ],\n",
              "       [0.00681013],\n",
              "       [0.33450422],\n",
              "       [0.99142545],\n",
              "       [0.9998908 ],\n",
              "       [0.01163065],\n",
              "       [0.06088951],\n",
              "       [0.99999785],\n",
              "       [0.0163824 ],\n",
              "       [0.9999982 ],\n",
              "       [0.01966074],\n",
              "       [0.9999038 ],\n",
              "       [0.93740964],\n",
              "       [0.64310604],\n",
              "       [0.9999916 ],\n",
              "       [0.999594  ],\n",
              "       [0.9999858 ],\n",
              "       [0.9993607 ],\n",
              "       [0.9931005 ],\n",
              "       [0.01579332],\n",
              "       [0.999887  ],\n",
              "       [0.99997175],\n",
              "       [0.7071954 ],\n",
              "       [0.998927  ],\n",
              "       [0.00312564],\n",
              "       [0.99966896],\n",
              "       [0.99992704],\n",
              "       [0.99997663],\n",
              "       [0.00397047],\n",
              "       [0.02468136],\n",
              "       [0.99997616],\n",
              "       [0.9980798 ],\n",
              "       [0.11996454],\n",
              "       [0.99976766],\n",
              "       [0.99998724],\n",
              "       [0.0684652 ],\n",
              "       [0.15948826],\n",
              "       [0.02715433],\n",
              "       [0.99273264],\n",
              "       [0.9999995 ],\n",
              "       [0.06283528],\n",
              "       [0.9969715 ],\n",
              "       [1.        ],\n",
              "       [0.00966612],\n",
              "       [0.00738144],\n",
              "       [0.99476546],\n",
              "       [0.9982017 ],\n",
              "       [0.99940836],\n",
              "       [0.9930192 ],\n",
              "       [1.        ],\n",
              "       [0.9999713 ],\n",
              "       [0.00667775],\n",
              "       [0.68165344],\n",
              "       [0.99997514],\n",
              "       [0.99893194],\n",
              "       [0.02559924],\n",
              "       [0.06233907],\n",
              "       [0.99844164],\n",
              "       [1.        ],\n",
              "       [0.8852998 ],\n",
              "       [1.        ],\n",
              "       [0.9999392 ],\n",
              "       [0.99976707],\n",
              "       [0.9858434 ],\n",
              "       [0.02112678],\n",
              "       [0.00257325],\n",
              "       [0.02141693],\n",
              "       [0.01720464],\n",
              "       [0.9999604 ],\n",
              "       [0.99994504],\n",
              "       [1.        ],\n",
              "       [0.07272133],\n",
              "       [0.9988352 ],\n",
              "       [0.9999572 ],\n",
              "       [0.00671518],\n",
              "       [0.9987805 ],\n",
              "       [0.99945545],\n",
              "       [0.7073165 ],\n",
              "       [0.01518419],\n",
              "       [0.00367218],\n",
              "       [0.0133962 ],\n",
              "       [0.021988  ],\n",
              "       [0.02554494],\n",
              "       [1.        ],\n",
              "       [0.9999441 ],\n",
              "       [0.9999689 ],\n",
              "       [0.99594337],\n",
              "       [0.9646975 ],\n",
              "       [0.99999964],\n",
              "       [0.00979659],\n",
              "       [0.99999917],\n",
              "       [0.9999238 ],\n",
              "       [0.00261366],\n",
              "       [0.02689493],\n",
              "       [0.9992224 ],\n",
              "       [0.03134808],\n",
              "       [0.9999745 ],\n",
              "       [0.9968382 ],\n",
              "       [1.        ],\n",
              "       [0.9998657 ],\n",
              "       [0.9998145 ],\n",
              "       [0.04869747],\n",
              "       [0.99520326],\n",
              "       [0.04411292],\n",
              "       [0.9981446 ],\n",
              "       [0.9408264 ],\n",
              "       [0.9955097 ],\n",
              "       [0.9986416 ],\n",
              "       [0.99977916],\n",
              "       [0.00532436],\n",
              "       [0.9971816 ],\n",
              "       [0.9999223 ],\n",
              "       [0.99974895],\n",
              "       [0.02627155],\n",
              "       [0.04449591],\n",
              "       [0.00926125],\n",
              "       [0.00693449],\n",
              "       [0.9999943 ],\n",
              "       [0.9202117 ],\n",
              "       [0.01407313],\n",
              "       [0.00501367],\n",
              "       [0.01489207],\n",
              "       [0.9994589 ],\n",
              "       [0.99999607],\n",
              "       [0.9999872 ],\n",
              "       [1.        ],\n",
              "       [0.02748442],\n",
              "       [0.01434347],\n",
              "       [0.00970885],\n",
              "       [0.99909437],\n",
              "       [0.03448093],\n",
              "       [0.99722   ],\n",
              "       [0.9964144 ],\n",
              "       [0.99995524],\n",
              "       [0.9991813 ],\n",
              "       [0.9997217 ],\n",
              "       [0.9980147 ],\n",
              "       [0.99996793],\n",
              "       [0.01044044],\n",
              "       [0.9999185 ],\n",
              "       [0.01679757]], dtype=float32)"
            ]
          },
          "metadata": {},
          "execution_count": 73
        }
      ]
    },
    {
      "cell_type": "code",
      "source": [
        "for i in range(192):\n",
        "  if predict[i]>=0.5:\n",
        "    predict[i]=1\n",
        "  elif predict[i]<0.5:\n",
        "    predict[i]=0\n",
        "\n",
        "print(predict)"
      ],
      "metadata": {
        "colab": {
          "base_uri": "https://localhost:8080/"
        },
        "id": "DVSOv5l2Sgxh",
        "outputId": "0fdc7df6-c3e2-49a4-f574-3f6eb2390f5d"
      },
      "execution_count": 74,
      "outputs": [
        {
          "output_type": "stream",
          "name": "stdout",
          "text": [
            "[[1.]\n",
            " [0.]\n",
            " [1.]\n",
            " [0.]\n",
            " [1.]\n",
            " [1.]\n",
            " [0.]\n",
            " [1.]\n",
            " [0.]\n",
            " [1.]\n",
            " [1.]\n",
            " [0.]\n",
            " [1.]\n",
            " [1.]\n",
            " [1.]\n",
            " [1.]\n",
            " [0.]\n",
            " [1.]\n",
            " [0.]\n",
            " [1.]\n",
            " [1.]\n",
            " [1.]\n",
            " [1.]\n",
            " [1.]\n",
            " [0.]\n",
            " [0.]\n",
            " [0.]\n",
            " [0.]\n",
            " [0.]\n",
            " [1.]\n",
            " [1.]\n",
            " [0.]\n",
            " [1.]\n",
            " [1.]\n",
            " [0.]\n",
            " [0.]\n",
            " [0.]\n",
            " [0.]\n",
            " [1.]\n",
            " [1.]\n",
            " [0.]\n",
            " [1.]\n",
            " [1.]\n",
            " [1.]\n",
            " [1.]\n",
            " [1.]\n",
            " [1.]\n",
            " [1.]\n",
            " [0.]\n",
            " [1.]\n",
            " [1.]\n",
            " [1.]\n",
            " [0.]\n",
            " [0.]\n",
            " [1.]\n",
            " [1.]\n",
            " [0.]\n",
            " [0.]\n",
            " [1.]\n",
            " [0.]\n",
            " [1.]\n",
            " [0.]\n",
            " [1.]\n",
            " [1.]\n",
            " [1.]\n",
            " [1.]\n",
            " [1.]\n",
            " [1.]\n",
            " [1.]\n",
            " [1.]\n",
            " [0.]\n",
            " [1.]\n",
            " [1.]\n",
            " [1.]\n",
            " [1.]\n",
            " [0.]\n",
            " [1.]\n",
            " [1.]\n",
            " [1.]\n",
            " [0.]\n",
            " [0.]\n",
            " [1.]\n",
            " [1.]\n",
            " [0.]\n",
            " [1.]\n",
            " [1.]\n",
            " [0.]\n",
            " [0.]\n",
            " [0.]\n",
            " [1.]\n",
            " [1.]\n",
            " [0.]\n",
            " [1.]\n",
            " [1.]\n",
            " [0.]\n",
            " [0.]\n",
            " [1.]\n",
            " [1.]\n",
            " [1.]\n",
            " [1.]\n",
            " [1.]\n",
            " [1.]\n",
            " [0.]\n",
            " [1.]\n",
            " [1.]\n",
            " [1.]\n",
            " [0.]\n",
            " [0.]\n",
            " [1.]\n",
            " [1.]\n",
            " [1.]\n",
            " [1.]\n",
            " [1.]\n",
            " [1.]\n",
            " [1.]\n",
            " [0.]\n",
            " [0.]\n",
            " [0.]\n",
            " [0.]\n",
            " [1.]\n",
            " [1.]\n",
            " [1.]\n",
            " [0.]\n",
            " [1.]\n",
            " [1.]\n",
            " [0.]\n",
            " [1.]\n",
            " [1.]\n",
            " [1.]\n",
            " [0.]\n",
            " [0.]\n",
            " [0.]\n",
            " [0.]\n",
            " [0.]\n",
            " [1.]\n",
            " [1.]\n",
            " [1.]\n",
            " [1.]\n",
            " [1.]\n",
            " [1.]\n",
            " [0.]\n",
            " [1.]\n",
            " [1.]\n",
            " [0.]\n",
            " [0.]\n",
            " [1.]\n",
            " [0.]\n",
            " [1.]\n",
            " [1.]\n",
            " [1.]\n",
            " [1.]\n",
            " [1.]\n",
            " [0.]\n",
            " [1.]\n",
            " [0.]\n",
            " [1.]\n",
            " [1.]\n",
            " [1.]\n",
            " [1.]\n",
            " [1.]\n",
            " [0.]\n",
            " [1.]\n",
            " [1.]\n",
            " [1.]\n",
            " [0.]\n",
            " [0.]\n",
            " [0.]\n",
            " [0.]\n",
            " [1.]\n",
            " [1.]\n",
            " [0.]\n",
            " [0.]\n",
            " [0.]\n",
            " [1.]\n",
            " [1.]\n",
            " [1.]\n",
            " [1.]\n",
            " [0.]\n",
            " [0.]\n",
            " [0.]\n",
            " [1.]\n",
            " [0.]\n",
            " [1.]\n",
            " [1.]\n",
            " [1.]\n",
            " [1.]\n",
            " [1.]\n",
            " [1.]\n",
            " [1.]\n",
            " [0.]\n",
            " [1.]\n",
            " [0.]]\n"
          ]
        }
      ]
    },
    {
      "cell_type": "code",
      "source": [
        "from sklearn.metrics import confusion_matrix\n",
        "confusion_matrix(y_test, predict)"
      ],
      "metadata": {
        "colab": {
          "base_uri": "https://localhost:8080/"
        },
        "id": "XHR3twBaWimp",
        "outputId": "18c742b5-9d98-4de4-98b2-ba5c5f5772d0"
      },
      "execution_count": 75,
      "outputs": [
        {
          "output_type": "execute_result",
          "data": {
            "text/plain": [
              "array([[ 69,   5],\n",
              "       [  1, 117]])"
            ]
          },
          "metadata": {},
          "execution_count": 75
        }
      ]
    },
    {
      "cell_type": "code",
      "source": [
        ""
      ],
      "metadata": {
        "id": "ZGlXpP5WgCDb"
      },
      "execution_count": null,
      "outputs": []
    }
  ]
}